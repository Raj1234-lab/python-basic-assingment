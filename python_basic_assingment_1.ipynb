{
  "nbformat": 4,
  "nbformat_minor": 0,
  "metadata": {
    "colab": {
      "provenance": []
    },
    "kernelspec": {
      "name": "python3",
      "display_name": "Python 3"
    },
    "language_info": {
      "name": "python"
    }
  },
  "cells": [
    {
      "cell_type": "markdown",
      "source": [
        "# 1.what is python, and why is it popular?\n",
        "\n",
        "\n",
        "#Answer\n",
        "#python is a programing language known for its ease of use and it has a simple syntax to code\n",
        "#it is popular in many ways>>\n",
        "#1.Simplycity>>easy to understand\n",
        "#2.versatility>>python has wide varity of domains,from web development and data analysis to ML.\n",
        "#3.extensive llibraries and frameworks>>python has vast ecosystem of libraries and frameworks that simplyfy development and make it easer to work\n"
      ],
      "metadata": {
        "id": "935KTd3ndR6O"
      }
    },
    {
      "cell_type": "markdown",
      "source": [
        "# 2.what is an interpreter in python?\n",
        "#Answer\n",
        "#Interpreter is a program that read and executes code python code line by line.\n",
        "  "
      ],
      "metadata": {
        "id": "HPe-rPjvdZhT"
      }
    },
    {
      "cell_type": "code",
      "source": [],
      "metadata": {
        "id": "kEBX0xMQdn9D"
      },
      "execution_count": null,
      "outputs": []
    },
    {
      "cell_type": "markdown",
      "source": [
        "# 3.what is pre-defined keywords in python?\n",
        "#Answer\n",
        "  # keywords are reserved words in python that have special meanings.keywords are used to define the syntax of coding.\n",
        "  "
      ],
      "metadata": {
        "id": "eXU3sHONdpQ5"
      }
    },
    {
      "cell_type": "markdown",
      "source": [],
      "metadata": {
        "id": "A1cJJJ_Zdx-Z"
      }
    },
    {
      "cell_type": "markdown",
      "source": [
        "# 4.can keywords be used as variable names?\n",
        "#Answer\n",
        "#No, keywords cannot be used as variable names in most programming languages."
      ],
      "metadata": {
        "id": "S-CFiOwkdyBb"
      }
    },
    {
      "cell_type": "markdown",
      "source": [
        "# 5.what is mutability in python?\n",
        "#Answer\n",
        "#In Python, mutability refers to the ability of an object to be modified after it's created. Mutable objects can be changed in place, meaning their content can be altered without creating a new object"
      ],
      "metadata": {
        "id": "t3Mekiszefeh"
      }
    },
    {
      "cell_type": "markdown",
      "source": [
        "#6.why are lists mutable,but tuple are immutable?\n",
        "#Answer\n",
        "#Tuples and lists are the same in every way except two: tuples use parentheses instead of square brackets, and the items in tuples cannot be modified but the items in lists can be modified."
      ],
      "metadata": {
        "id": "pD3VTVIre6PS"
      }
    },
    {
      "cell_type": "markdown",
      "source": [
        "#7.what is the diffrence between \"==\"and \"is\"operators in python?\n",
        "#Answer\n",
        "#The == and is operators in Python serve distinct comparison purposes. The == operator checks for equality of value, while the is operator checks for identity.\n"
      ],
      "metadata": {
        "id": "H_DJOkkdg1TC"
      }
    },
    {
      "cell_type": "markdown",
      "source": [
        "#8.what are logical operators in python?\n",
        "#Answer\n",
        "#Logical operators in Python are used to combine or modify boolean values (True or False). There are three main logical operators:\n",
        "#and: Returns True if both operands are True, otherwise it returns False.\n",
        "#or: Returns True if at least one of the operands is True, otherwise it returns False.\n",
        "#not: Returns the opposite boolean value of the operand. If the operand is True, it returns False,and if the operand is False, it returns True.\n",
        "Python\n",
        "\n"
      ],
      "metadata": {
        "id": "2eGX2Zi0iIi_"
      }
    },
    {
      "cell_type": "markdown",
      "source": [],
      "metadata": {
        "id": "WpkTf5VxjUhk"
      }
    },
    {
      "cell_type": "markdown",
      "source": [
        "#9.what is type casting in python?\n",
        "#Answer\n",
        "#Type casting in Python, also known as type conversion, refers to the process of changing the data type of a variable from one type to another. This is often necessary to perform operations that are not compatible between different data types or to ensure data is in the desired format."
      ],
      "metadata": {
        "id": "b_WrA8L-jYM_"
      }
    },
    {
      "cell_type": "markdown",
      "source": [
        "#10.what is the difference between implicit and explicit type casting?\n",
        "#Answer\n",
        "#Explicit type conversion in programming is done manually by the programmer, while implicit conversion is handled automatically by the compiler"
      ],
      "metadata": {
        "id": "mHd4d1nRjyuW"
      }
    },
    {
      "cell_type": "markdown",
      "source": [
        "#11.what is the purpose of conditional statement in python?\n",
        "#Answer\n",
        "#Conditional statements in Python enable programs to make decisions and execute different code blocks based on whether specific conditions are met. They control the flow of execution, allowing programs to respond dynamically to varying inputs and situations. The primary conditional statements in Python are if, elif, and else."
      ],
      "metadata": {
        "id": "Ixt51j_plDj2"
      }
    },
    {
      "cell_type": "markdown",
      "source": [
        "#12.how does the elif statement work?\n",
        "#Answer\n",
        "#The “elif” keyword in Python, stands for “else if”. It can be used in conditional statements to check for multiple conditions. For example, if the first condition is false, it moves on to the next “elif” statement to check if that condition is true."
      ],
      "metadata": {
        "id": "wqIpHt-0lu5c"
      }
    },
    {
      "cell_type": "markdown",
      "source": [
        "#13.what is the difference between for and while loops?\n",
        "#Answer\n",
        "#The primary difference between a for loop and a while loop lies in how they control the iteration process. A for loop is typically used when the number of iterations is known beforehand, and it iterates over a sequence or range. A while loop, on the other hand, repeats a block of code until a condition becomes false, making it suitable when the number of iterations is not predetermined.\n"
      ],
      "metadata": {
        "id": "9I-y-hxdmMBQ"
      }
    },
    {
      "cell_type": "markdown",
      "source": [
        "#14.describe a scenario where a while loop is more suitable than a for loop.\n",
        "#Answer\n",
        "#In programming, for loops are best used when you know the number of iterations ahead of time, whereas a while loop is best used when you don't know the number of iterations in advance. Both methods can help you iterate through your code.\n"
      ],
      "metadata": {
        "id": "aXTxYqB7nB7k"
      }
    },
    {
      "cell_type": "code",
      "source": [
        "#PRACTICAL QUESTIONS"
      ],
      "metadata": {
        "id": "nKbfR3FXoSrt"
      },
      "execution_count": null,
      "outputs": []
    },
    {
      "cell_type": "code",
      "source": [
        "#question 1\n",
        "#write a python program to print \"hello,world\""
      ],
      "metadata": {
        "id": "MvTT0JF2pdrD"
      },
      "execution_count": null,
      "outputs": []
    },
    {
      "cell_type": "code",
      "source": [
        "print(\"hello, world\")"
      ],
      "metadata": {
        "colab": {
          "base_uri": "https://localhost:8080/"
        },
        "id": "ckqB4OqyohQ0",
        "outputId": "b37cdb64-9951-4825-f124-e7eb65e61cfe"
      },
      "execution_count": null,
      "outputs": [
        {
          "output_type": "stream",
          "name": "stdout",
          "text": [
            "hello, world\n"
          ]
        }
      ]
    },
    {
      "cell_type": "markdown",
      "source": [],
      "metadata": {
        "id": "-IeYBENljPeu"
      }
    },
    {
      "cell_type": "code",
      "source": [
        "#question 2\n",
        "#write a python programme that displays your name and age."
      ],
      "metadata": {
        "id": "2lHBDEVhrwyb"
      },
      "execution_count": null,
      "outputs": []
    },
    {
      "cell_type": "code",
      "source": [
        "Name =input(\"enter your name: \")\n",
        "Age = input(\"enter your age: \")"
      ],
      "metadata": {
        "colab": {
          "base_uri": "https://localhost:8080/"
        },
        "id": "YkMUR6jMpQ3c",
        "outputId": "ffea84d2-bc4c-47f6-aee2-73b6fd605703"
      },
      "execution_count": 2,
      "outputs": [
        {
          "name": "stdout",
          "output_type": "stream",
          "text": [
            "enter your name: raj chourasia\n",
            "enter your age: 28\n"
          ]
        }
      ]
    },
    {
      "cell_type": "code",
      "source": [
        "#question 3\n",
        "#write code to print all the pre-defined keywords in python using the keyword library."
      ],
      "metadata": {
        "id": "agpc8W1frt_B"
      },
      "execution_count": null,
      "outputs": []
    },
    {
      "cell_type": "code",
      "source": [
        "help ('keywords')"
      ],
      "metadata": {
        "colab": {
          "base_uri": "https://localhost:8080/"
        },
        "id": "CJTMqD4LscBd",
        "outputId": "826cb275-ca5a-4a81-d008-09f0217fb4ce"
      },
      "execution_count": null,
      "outputs": [
        {
          "output_type": "stream",
          "name": "stdout",
          "text": [
            "\n",
            "Here is a list of the Python keywords.  Enter any keyword to get more help.\n",
            "\n",
            "False               class               from                or\n",
            "None                continue            global              pass\n",
            "True                def                 if                  raise\n",
            "and                 del                 import              return\n",
            "as                  elif                in                  try\n",
            "assert              else                is                  while\n",
            "async               except              lambda              with\n",
            "await               finally             nonlocal            yield\n",
            "break               for                 not                 \n",
            "\n"
          ]
        }
      ]
    },
    {
      "cell_type": "code",
      "source": [
        "#question 4\n",
        "#write a programme that checks if a given word is a python keyword."
      ],
      "metadata": {
        "id": "Zzer-tn4sqAi"
      },
      "execution_count": null,
      "outputs": []
    },
    {
      "cell_type": "code",
      "source": [
        "import keyword\n",
        "print(keyword.kwlist)\n"
      ],
      "metadata": {
        "colab": {
          "base_uri": "https://localhost:8080/"
        },
        "id": "KXWbnH_wx8sW",
        "outputId": "4c51df08-1edf-4e3b-ba8f-8e6514f4ea78"
      },
      "execution_count": null,
      "outputs": [
        {
          "output_type": "stream",
          "name": "stdout",
          "text": [
            "['False', 'None', 'True', 'and', 'as', 'assert', 'async', 'await', 'break', 'class', 'continue', 'def', 'del', 'elif', 'else', 'except', 'finally', 'for', 'from', 'global', 'if', 'import', 'in', 'is', 'lambda', 'nonlocal', 'not', 'or', 'pass', 'raise', 'return', 'try', 'while', 'with', 'yield']\n"
          ]
        }
      ]
    },
    {
      "cell_type": "code",
      "source": [
        "import keyword\n",
        "\n",
        "word=input(\"enter a word : \")\n",
        "if keyword.iskeyword(word):\n",
        "    print(\"it is a keyword\")\n",
        "else:\n",
        "    print(\"it is not a keyword\")"
      ],
      "metadata": {
        "colab": {
          "base_uri": "https://localhost:8080/"
        },
        "id": "IoYV2A0oyd-o",
        "outputId": "84a175d5-5ff0-4f16-f0d1-3ca8ccb784f3"
      },
      "execution_count": null,
      "outputs": [
        {
          "output_type": "stream",
          "name": "stdout",
          "text": [
            "enter a word : True\n",
            "it is a keyword\n"
          ]
        }
      ]
    },
    {
      "cell_type": "code",
      "source": [
        "#question 5\n",
        "#create a list and tuple in python,and demonstrate how attempting to change an element works differently for each."
      ],
      "metadata": {
        "id": "E7f3gjsIzbAH"
      },
      "execution_count": null,
      "outputs": []
    },
    {
      "cell_type": "code",
      "source": [
        "#tuple\n",
        "n=(1,4,5,\"raj\",\"fish\")\n",
        "print(n)"
      ],
      "metadata": {
        "id": "51rCYosXzn1L",
        "colab": {
          "base_uri": "https://localhost:8080/"
        },
        "outputId": "550d82b1-cbc0-489d-e850-f5935b5f7431"
      },
      "execution_count": 3,
      "outputs": [
        {
          "output_type": "stream",
          "name": "stdout",
          "text": [
            "(1, 4, 5, 'raj', 'fish')\n"
          ]
        }
      ]
    },
    {
      "cell_type": "code",
      "source": [
        "#list\n",
        "list=[0,2,4,\"raj\",\"aeroplane\"]\n",
        "print(list)"
      ],
      "metadata": {
        "id": "gKHL_y_s0gw1",
        "colab": {
          "base_uri": "https://localhost:8080/"
        },
        "outputId": "4272dcf4-85ec-4580-c0a4-2f5a44dc2056"
      },
      "execution_count": 4,
      "outputs": [
        {
          "output_type": "stream",
          "name": "stdout",
          "text": [
            "[0, 2, 4, 'raj', 'aeroplane']\n"
          ]
        }
      ]
    },
    {
      "cell_type": "code",
      "source": [
        "list[4]=\"peacock\"\n",
        "print(list)"
      ],
      "metadata": {
        "id": "hqINEKWt0325",
        "colab": {
          "base_uri": "https://localhost:8080/"
        },
        "outputId": "040a5339-d4b9-47b8-a37b-8ecd1fa5a4c5"
      },
      "execution_count": 5,
      "outputs": [
        {
          "output_type": "stream",
          "name": "stdout",
          "text": [
            "[0, 2, 4, 'raj', 'peacock']\n"
          ]
        }
      ]
    },
    {
      "cell_type": "code",
      "source": [
        "#tuple\n",
        "n=(1,3,5,\"raj\",\"peacock\")\n",
        "print(n)"
      ],
      "metadata": {
        "id": "Peg633x11rSz",
        "colab": {
          "base_uri": "https://localhost:8080/"
        },
        "outputId": "105d2d75-8cd3-45eb-e2b0-9228774b4c03"
      },
      "execution_count": 6,
      "outputs": [
        {
          "output_type": "stream",
          "name": "stdout",
          "text": [
            "(1, 3, 5, 'raj', 'peacock')\n"
          ]
        }
      ]
    },
    {
      "cell_type": "code",
      "source": [
        "n(4)=\"lion\"\n",
        "print(n)"
      ],
      "metadata": {
        "colab": {
          "base_uri": "https://localhost:8080/",
          "height": 109
        },
        "id": "2zjavQpc2O7l",
        "outputId": "9621a006-523e-4623-d767-c6f466811e3d"
      },
      "execution_count": null,
      "outputs": [
        {
          "output_type": "error",
          "ename": "SyntaxError",
          "evalue": "cannot assign to function call here. Maybe you meant '==' instead of '='? (<ipython-input-40-deeb8ad762f8>, line 1)",
          "traceback": [
            "\u001b[0;36m  File \u001b[0;32m\"<ipython-input-40-deeb8ad762f8>\"\u001b[0;36m, line \u001b[0;32m1\u001b[0m\n\u001b[0;31m    n(4)=\"lion\"\u001b[0m\n\u001b[0m    ^\u001b[0m\n\u001b[0;31mSyntaxError\u001b[0m\u001b[0;31m:\u001b[0m cannot assign to function call here. Maybe you meant '==' instead of '='?\n"
          ]
        }
      ]
    },
    {
      "cell_type": "code",
      "source": [
        "#question 6\n",
        "#write a funtion to demonstrate the behavior of mutable and immutable argument.\n",
        "#immutability>>where we cant modify an data block\n",
        "#example= type (\"str\")\n",
        "a=\"raj chourasia\"\n",
        "\n"
      ],
      "metadata": {
        "id": "khkRfAa72hBz"
      },
      "execution_count": 1,
      "outputs": []
    },
    {
      "cell_type": "code",
      "source": [
        "# if we want to change the block of this data it gives an error\n",
        "a[0]\n"
      ],
      "metadata": {
        "colab": {
          "base_uri": "https://localhost:8080/",
          "height": 36
        },
        "id": "CI_l0BWY4Vsh",
        "outputId": "3ac2e955-8d0a-4b07-956e-df2334b2e5c5"
      },
      "execution_count": null,
      "outputs": [
        {
          "output_type": "execute_result",
          "data": {
            "text/plain": [
              "'s'"
            ],
            "application/vnd.google.colaboratory.intrinsic+json": {
              "type": "string"
            }
          },
          "metadata": {},
          "execution_count": 14
        }
      ]
    },
    {
      "cell_type": "code",
      "source": [
        "a[0]=y"
      ],
      "metadata": {
        "colab": {
          "base_uri": "https://localhost:8080/",
          "height": 144
        },
        "id": "WDybSOb15H5S",
        "outputId": "8149781a-92a4-4a1b-9c49-cc9bb2bfa6f0"
      },
      "execution_count": null,
      "outputs": [
        {
          "output_type": "error",
          "ename": "NameError",
          "evalue": "name 'y' is not defined",
          "traceback": [
            "\u001b[0;31m---------------------------------------------------------------------------\u001b[0m",
            "\u001b[0;31mNameError\u001b[0m                                 Traceback (most recent call last)",
            "\u001b[0;32m<ipython-input-60-807aa65c34d0>\u001b[0m in \u001b[0;36m<cell line: 0>\u001b[0;34m()\u001b[0m\n\u001b[0;32m----> 1\u001b[0;31m \u001b[0ma\u001b[0m\u001b[0;34m[\u001b[0m\u001b[0;36m0\u001b[0m\u001b[0;34m]\u001b[0m\u001b[0;34m=\u001b[0m\u001b[0my\u001b[0m\u001b[0;34m\u001b[0m\u001b[0;34m\u001b[0m\u001b[0m\n\u001b[0m",
            "\u001b[0;31mNameError\u001b[0m: name 'y' is not defined"
          ]
        }
      ]
    },
    {
      "cell_type": "code",
      "source": [
        "#mutability>>\n",
        "list=[\"sun\",'star',2,5,\"planet\"]\n",
        "list"
      ],
      "metadata": {
        "colab": {
          "base_uri": "https://localhost:8080/"
        },
        "id": "V85VEvtV6ihX",
        "outputId": "dd149b8b-4b14-455c-e7b2-90091055c9c0"
      },
      "execution_count": null,
      "outputs": [
        {
          "output_type": "execute_result",
          "data": {
            "text/plain": [
              "['sun', 'star', 2, 5, 'planet']"
            ]
          },
          "metadata": {},
          "execution_count": 31
        }
      ]
    },
    {
      "cell_type": "code",
      "source": [
        "list[0]"
      ],
      "metadata": {
        "colab": {
          "base_uri": "https://localhost:8080/",
          "height": 36
        },
        "id": "yQPMxhXG643k",
        "outputId": "25c7ee6b-28be-4583-d8f7-fe644f722270"
      },
      "execution_count": null,
      "outputs": [
        {
          "output_type": "execute_result",
          "data": {
            "text/plain": [
              "'sun'"
            ],
            "application/vnd.google.colaboratory.intrinsic+json": {
              "type": "string"
            }
          },
          "metadata": {},
          "execution_count": 32
        }
      ]
    },
    {
      "cell_type": "code",
      "source": [
        "list[0]=\"elephant\"\n",
        "list"
      ],
      "metadata": {
        "colab": {
          "base_uri": "https://localhost:8080/"
        },
        "id": "xRZ_FKyp6-31",
        "outputId": "a70322d5-2446-4526-fc1c-baafe418184d"
      },
      "execution_count": null,
      "outputs": [
        {
          "output_type": "execute_result",
          "data": {
            "text/plain": [
              "['elephant', 'star', 2, 5, 'planet']"
            ]
          },
          "metadata": {},
          "execution_count": 33
        }
      ]
    },
    {
      "cell_type": "code",
      "source": [],
      "metadata": {
        "id": "X7Z_UJpB8URU"
      },
      "execution_count": null,
      "outputs": []
    },
    {
      "cell_type": "code",
      "source": [
        "#question 7\n",
        "#write a program that performs basic arithmetics operations on two two user-input numbers.\n",
        "#addition\n",
        "a=2\n",
        "b=3\n",
        "a+b\n"
      ],
      "metadata": {
        "colab": {
          "base_uri": "https://localhost:8080/"
        },
        "id": "G00ENi_Q8zd_",
        "outputId": "e4533b47-1fdd-491e-f835-a75d2333e5ed"
      },
      "execution_count": null,
      "outputs": [
        {
          "output_type": "execute_result",
          "data": {
            "text/plain": [
              "5"
            ]
          },
          "metadata": {},
          "execution_count": 9
        }
      ]
    },
    {
      "cell_type": "code",
      "source": [
        "#multiplication\n",
        "a=2\n",
        "b=6\n",
        "a*b"
      ],
      "metadata": {
        "colab": {
          "base_uri": "https://localhost:8080/"
        },
        "id": "1AiEzf0g9B92",
        "outputId": "c71ac7e7-01fc-4cda-faa8-0c9643d807a0"
      },
      "execution_count": null,
      "outputs": [
        {
          "output_type": "execute_result",
          "data": {
            "text/plain": [
              "12"
            ]
          },
          "metadata": {},
          "execution_count": 70
        }
      ]
    },
    {
      "cell_type": "code",
      "source": [
        "#division\n",
        "a=18\n",
        "b=9\n",
        "a/b"
      ],
      "metadata": {
        "colab": {
          "base_uri": "https://localhost:8080/"
        },
        "id": "cFvL6EN_88j6",
        "outputId": "d6858f5b-50ad-45ba-b1eb-86ce8b760622"
      },
      "execution_count": null,
      "outputs": [
        {
          "output_type": "execute_result",
          "data": {
            "text/plain": [
              "2.0"
            ]
          },
          "metadata": {},
          "execution_count": 71
        }
      ]
    },
    {
      "cell_type": "code",
      "source": [
        "#question 8\n",
        "#write a program to demonstrate the use of logical operators'"
      ],
      "metadata": {
        "id": "zStBQfw6ABWv"
      },
      "execution_count": null,
      "outputs": []
    },
    {
      "cell_type": "code",
      "source": [
        "#logical operator\n",
        "a=True\n",
        "b=False\n",
        "a and b\n"
      ],
      "metadata": {
        "colab": {
          "base_uri": "https://localhost:8080/"
        },
        "id": "vkdYQJ0S9R1z",
        "outputId": "90a0700d-184f-4880-c5b3-2e4ebe4d9650"
      },
      "execution_count": null,
      "outputs": [
        {
          "output_type": "execute_result",
          "data": {
            "text/plain": [
              "False"
            ]
          },
          "metadata": {},
          "execution_count": 74
        }
      ]
    },
    {
      "cell_type": "code",
      "source": [
        "a= 100\n",
        "a= int(a>50 and a<150)\n",
        "if a==40:\n",
        "    print(\"true\")\n",
        "else:\n",
        "    print(\"false\")"
      ],
      "metadata": {
        "colab": {
          "base_uri": "https://localhost:8080/"
        },
        "id": "DDBpQFTOAGxJ",
        "outputId": "de080637-463d-41ef-c8ad-d2067913b15b"
      },
      "execution_count": null,
      "outputs": [
        {
          "output_type": "stream",
          "name": "stdout",
          "text": [
            "false\n"
          ]
        }
      ]
    },
    {
      "cell_type": "code",
      "source": [
        "a= 100\n",
        "a= int(a>50 or a<150)\n",
        "if a==1:\n",
        "    print(\"true\")\n",
        "else:\n",
        "    print(\"false\")"
      ],
      "metadata": {
        "colab": {
          "base_uri": "https://localhost:8080/"
        },
        "id": "tBqFpvJ6C7WY",
        "outputId": "0ac03073-33e4-41a3-d092-c66dc629b6a4"
      },
      "execution_count": null,
      "outputs": [
        {
          "output_type": "stream",
          "name": "stdout",
          "text": [
            "true\n"
          ]
        }
      ]
    },
    {
      "cell_type": "code",
      "source": [
        "#question 9\n",
        "#write a python program to convert user input from string to integer,float,and boolean types."
      ],
      "metadata": {
        "id": "OqYgmeC4C_tF"
      },
      "execution_count": null,
      "outputs": []
    },
    {
      "cell_type": "code",
      "source": [
        "#str to int\n",
        "a=\"5\"\n",
        "a"
      ],
      "metadata": {
        "colab": {
          "base_uri": "https://localhost:8080/",
          "height": 36
        },
        "id": "jOzgI6uJDkrB",
        "outputId": "ac20805f-43a3-4239-fa83-42fa832b90e6"
      },
      "execution_count": null,
      "outputs": [
        {
          "output_type": "execute_result",
          "data": {
            "text/plain": [
              "'5'"
            ],
            "application/vnd.google.colaboratory.intrinsic+json": {
              "type": "string"
            }
          },
          "metadata": {},
          "execution_count": 94
        }
      ]
    },
    {
      "cell_type": "code",
      "source": [
        "type(a)"
      ],
      "metadata": {
        "colab": {
          "base_uri": "https://localhost:8080/"
        },
        "id": "4egQe3UDD5Z3",
        "outputId": "1d7336b9-0791-4261-c526-5347f6232ad2"
      },
      "execution_count": null,
      "outputs": [
        {
          "output_type": "execute_result",
          "data": {
            "text/plain": [
              "str"
            ]
          },
          "metadata": {},
          "execution_count": 95
        }
      ]
    },
    {
      "cell_type": "code",
      "source": [
        "int(a)"
      ],
      "metadata": {
        "colab": {
          "base_uri": "https://localhost:8080/"
        },
        "id": "tgx9N_1tEXUT",
        "outputId": "ff030b72-d58e-45b5-d553-cdd8b3702f80"
      },
      "execution_count": null,
      "outputs": [
        {
          "output_type": "execute_result",
          "data": {
            "text/plain": [
              "5"
            ]
          },
          "metadata": {},
          "execution_count": 101
        }
      ]
    },
    {
      "cell_type": "code",
      "source": [
        "a"
      ],
      "metadata": {
        "colab": {
          "base_uri": "https://localhost:8080/"
        },
        "id": "wrpZpDNFFBR1",
        "outputId": "64da8dd7-6ec8-4b2f-99ec-a468dd195f4d"
      },
      "execution_count": null,
      "outputs": [
        {
          "output_type": "execute_result",
          "data": {
            "text/plain": [
              "5"
            ]
          },
          "metadata": {},
          "execution_count": 102
        }
      ]
    },
    {
      "cell_type": "code",
      "source": [
        "type(a)"
      ],
      "metadata": {
        "colab": {
          "base_uri": "https://localhost:8080/"
        },
        "id": "fViAkWCdFR5-",
        "outputId": "c58d9a9b-8fc9-4b34-8ecf-a8be8f63dab5"
      },
      "execution_count": null,
      "outputs": [
        {
          "output_type": "execute_result",
          "data": {
            "text/plain": [
              "int"
            ]
          },
          "metadata": {},
          "execution_count": 103
        }
      ]
    },
    {
      "cell_type": "code",
      "source": [
        "#string to float\n",
        "a=\"100\"\n",
        "b= float(a)\n",
        "print(b)\n",
        "print(type(b))"
      ],
      "metadata": {
        "colab": {
          "base_uri": "https://localhost:8080/"
        },
        "id": "qmSe0zLwFULJ",
        "outputId": "a0f4d584-1c0d-4d26-9ad7-3a1dd2489d4d"
      },
      "execution_count": null,
      "outputs": [
        {
          "output_type": "stream",
          "name": "stdout",
          "text": [
            "100.0\n",
            "<class 'float'>\n"
          ]
        }
      ]
    },
    {
      "cell_type": "code",
      "source": [],
      "metadata": {
        "id": "glkB4P0FG8LB"
      },
      "execution_count": null,
      "outputs": []
    },
    {
      "cell_type": "code",
      "source": [
        "#str to bool\n",
        "a=\"true\"\n",
        "b=bool(a)\n",
        "print(b)\n",
        "print(type(b))\n"
      ],
      "metadata": {
        "colab": {
          "base_uri": "https://localhost:8080/"
        },
        "id": "fzT6iN8VG_ow",
        "outputId": "9495eecf-616d-49ab-9dbd-3d7e395e732a"
      },
      "execution_count": null,
      "outputs": [
        {
          "output_type": "stream",
          "name": "stdout",
          "text": [
            "True\n",
            "<class 'bool'>\n"
          ]
        }
      ]
    },
    {
      "cell_type": "code",
      "source": [
        "#question 10\n",
        "#write code to demonstrate type casting with list elemts."
      ],
      "metadata": {
        "id": "jk7NVI1RHm5z"
      },
      "execution_count": null,
      "outputs": []
    },
    {
      "cell_type": "code",
      "source": [
        "#type casting\n"
      ],
      "metadata": {
        "id": "b1mop_AAIXI3"
      },
      "execution_count": null,
      "outputs": []
    },
    {
      "cell_type": "code",
      "source": [
        "#float to int\n",
        "b=4.89\n",
        "type(b)\n",
        "float_value = int(b)\n",
        "type(float_value)"
      ],
      "metadata": {
        "colab": {
          "base_uri": "https://localhost:8080/"
        },
        "id": "cy0xM6pKIlYa",
        "outputId": "1a2ee6a8-1eb6-47c4-86ab-9272663c5f3c"
      },
      "execution_count": null,
      "outputs": [
        {
          "output_type": "execute_result",
          "data": {
            "text/plain": [
              "int"
            ]
          },
          "metadata": {},
          "execution_count": 10
        }
      ]
    },
    {
      "cell_type": "code",
      "source": [
        "#question 11\n",
        "#write a program that checks if a number is positive,negative, or zero."
      ],
      "metadata": {
        "id": "dcYzevNiJRku"
      },
      "execution_count": null,
      "outputs": []
    },
    {
      "cell_type": "code",
      "source": [
        "# to check if the no. is +ve, -ve or zero\n",
        "number=int(input(\"enter number: \"))\n",
        "if number>0:\n",
        "    print(\"positive number\")\n",
        "elif number<0:\n",
        "    print(\"negative number\")\n",
        "else:\n",
        "    print(\"zero\")"
      ],
      "metadata": {
        "colab": {
          "base_uri": "https://localhost:8080/"
        },
        "id": "-5xIqlqmJ8Na",
        "outputId": "360c73b0-a34d-40a8-ddd0-7651e2284ec0"
      },
      "execution_count": null,
      "outputs": [
        {
          "output_type": "stream",
          "name": "stdout",
          "text": [
            "enter number: 1\n",
            "positive number\n"
          ]
        }
      ]
    },
    {
      "cell_type": "code",
      "source": [
        "#question 12\n",
        "#write a for loop to print number from 1 to 10"
      ],
      "metadata": {
        "id": "K73hTLfOKQuw"
      },
      "execution_count": null,
      "outputs": []
    },
    {
      "cell_type": "code",
      "source": [
        "#using for loop to print no. from 1 to 10"
      ],
      "metadata": {
        "id": "Qf5_ftNtDOpT"
      },
      "execution_count": null,
      "outputs": []
    },
    {
      "cell_type": "code",
      "source": [
        "for i in range(1,11):\n",
        "  print(i,end=' ')"
      ],
      "metadata": {
        "colab": {
          "base_uri": "https://localhost:8080/"
        },
        "id": "bIIUZoeBDZlj",
        "outputId": "a0ae7367-cc1e-4e4c-8bac-29d198698fa5"
      },
      "execution_count": null,
      "outputs": [
        {
          "output_type": "stream",
          "name": "stdout",
          "text": [
            "1 2 3 4 5 6 7 8 9 10 "
          ]
        }
      ]
    },
    {
      "cell_type": "code",
      "source": [
        "#question 13\n",
        "#write a python program to find the sum of all even number between 1 to 50."
      ],
      "metadata": {
        "id": "5tZhsU3FD0Nd"
      },
      "execution_count": null,
      "outputs": []
    },
    {
      "cell_type": "code",
      "source": [
        "for i in range(1,51):\n",
        "  if i%2==0:\n",
        "    print(i)"
      ],
      "metadata": {
        "colab": {
          "base_uri": "https://localhost:8080/"
        },
        "id": "FbYf0JBpEsEY",
        "outputId": "71fbc7d0-2ed0-4047-c42d-e007db9d2e04"
      },
      "execution_count": null,
      "outputs": [
        {
          "output_type": "stream",
          "name": "stdout",
          "text": [
            "2\n",
            "4\n",
            "6\n",
            "8\n",
            "10\n",
            "12\n",
            "14\n",
            "16\n",
            "18\n",
            "20\n",
            "22\n",
            "24\n",
            "26\n",
            "28\n",
            "30\n",
            "32\n",
            "34\n",
            "36\n",
            "38\n",
            "40\n",
            "42\n",
            "44\n",
            "46\n",
            "48\n",
            "50\n"
          ]
        }
      ]
    },
    {
      "cell_type": "code",
      "source": [
        "#Question 14\n",
        "#write a program to reverse a string using a while loop."
      ],
      "metadata": {
        "id": "KmMCASpeF2r1"
      },
      "execution_count": null,
      "outputs": []
    },
    {
      "cell_type": "code",
      "source": [
        "string = \"raj chourasia\"\n",
        "rev_str = \"\"\n",
        "for s in string:\n",
        "  rev_str = s + rev_str\n",
        "print(rev_str)"
      ],
      "metadata": {
        "colab": {
          "base_uri": "https://localhost:8080/"
        },
        "id": "lrTemOM2GBis",
        "outputId": "fa317023-2d65-43a2-c948-de869f9a8dc1"
      },
      "execution_count": 7,
      "outputs": [
        {
          "output_type": "stream",
          "name": "stdout",
          "text": [
            "aisaruohc jar\n"
          ]
        }
      ]
    },
    {
      "cell_type": "code",
      "source": [
        "#Question 15\n",
        "# write a python program to calculate the factorial of a number provided by the user using a while loop."
      ],
      "metadata": {
        "id": "qOlQx-7fHddW"
      },
      "execution_count": null,
      "outputs": []
    },
    {
      "cell_type": "code",
      "source": [
        "def factorial_while(n):\n",
        "    if n < 0:\n",
        "        return None\n",
        "    elif n == 0 or n == 1:\n",
        "        return 1\n",
        "    else:\n",
        "        fact = 1\n",
        "        i = 1\n",
        "        while i <= n:\n",
        "            fact *= i\n",
        "            i += 1\n",
        "        return fact\n",
        "\n",
        "# Get user input\n",
        "num = int(input(\"Enter a non-negative integer: \"))\n",
        "result = factorial_while(num)\n",
        "\n",
        "if result is not None:\n",
        "    print(f\"The factorial of {num} is {result}\")\n",
        "else:\n",
        "    print(\"Factorial is not defined for negative numbers.\")"
      ],
      "metadata": {
        "colab": {
          "base_uri": "https://localhost:8080/"
        },
        "id": "7bQbzuR9oQYP",
        "outputId": "512e45c6-054d-4fdd-8ebc-8890ff4442c6"
      },
      "execution_count": null,
      "outputs": [
        {
          "output_type": "stream",
          "name": "stdout",
          "text": [
            "Enter a non-negative integer: 6\n",
            "The factorial of 6 is 720\n"
          ]
        }
      ]
    },
    {
      "cell_type": "code",
      "source": [],
      "metadata": {
        "id": "zUJPOVvCrU7C"
      },
      "execution_count": null,
      "outputs": []
    }
  ]
}